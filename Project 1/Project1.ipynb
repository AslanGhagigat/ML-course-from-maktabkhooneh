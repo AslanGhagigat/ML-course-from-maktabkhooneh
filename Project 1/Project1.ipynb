{
 "cells": [
  {
   "cell_type": "markdown",
   "metadata": {},
   "source": [
    "<img src=\"https://webna.ir/wp-content/uploads/2018/08/%D9%85%DA%A9%D8%AA%D8%A8-%D8%AE%D9%88%D9%86%D9%87.png\" width=50% />"
   ]
  },
  {
   "cell_type": "markdown",
   "metadata": {},
   "source": [
    "<div class=\"alert alert-block alert-success\">\n",
    "    <h1 align=\"center\">Machine Learning in Python</h1>\n",
    "    <h3 align=\"center\">Project1</h3>\n",
    "</div>"
   ]
  },
  {
   "cell_type": "markdown",
   "metadata": {},
   "source": [
    "<img src = \"https://www.eesc.europa.eu/sites/default/files/styles/large/public/images/shutterstock_1642888921.jpg?itok=P9-6YhGd\" width=50%>"
   ]
  },
  {
   "cell_type": "markdown",
   "metadata": {},
   "source": [
    "## Importing the libraries"
   ]
  },
  {
   "cell_type": "code",
   "execution_count": 1,
   "metadata": {},
   "outputs": [],
   "source": [
    "%matplotlib inline\n",
    "import numpy as np\n",
    "import pandas as pd\n",
    "\n",
    "import matplotlib.pyplot as plt\n",
    "import seaborn as sns\n",
    "\n",
    "import sklearn\n",
    "from sklearn.preprocessing import LabelEncoder\n",
    "from sklearn.model_selection import train_test_split\n",
    "from sklearn import metrics\n",
    "from sklearn.metrics import r2_score\n",
    "from sklearn.model_selection import cross_val_score\n",
    "\n",
    "import xgboost as xgb\n",
    "\n",
    "import joblib"
   ]
  },
  {
   "cell_type": "code",
   "execution_count": 2,
   "metadata": {},
   "outputs": [],
   "source": [
    "import warnings\n",
    "warnings.filterwarnings('ignore')\n",
    "#We added this code so that it does not display errors as a red box"
   ]
  },
  {
   "cell_type": "markdown",
   "metadata": {},
   "source": [
    "## Load and Prepare Data"
   ]
  },
  {
   "cell_type": "code",
   "execution_count": 3,
   "metadata": {},
   "outputs": [],
   "source": [
    "df = pd.read_csv('country_vaccinations_by_manufacturer.csv')"
   ]
  },
  {
   "cell_type": "markdown",
   "metadata": {},
   "source": [
    "## EDA"
   ]
  },
  {
   "cell_type": "code",
   "execution_count": 4,
   "metadata": {},
   "outputs": [
    {
     "data": {
      "text/html": [
       "<div>\n",
       "<style scoped>\n",
       "    .dataframe tbody tr th:only-of-type {\n",
       "        vertical-align: middle;\n",
       "    }\n",
       "\n",
       "    .dataframe tbody tr th {\n",
       "        vertical-align: top;\n",
       "    }\n",
       "\n",
       "    .dataframe thead th {\n",
       "        text-align: right;\n",
       "    }\n",
       "</style>\n",
       "<table border=\"1\" class=\"dataframe\">\n",
       "  <thead>\n",
       "    <tr style=\"text-align: right;\">\n",
       "      <th></th>\n",
       "      <th>location</th>\n",
       "      <th>date</th>\n",
       "      <th>vaccine</th>\n",
       "      <th>total_vaccinations</th>\n",
       "    </tr>\n",
       "  </thead>\n",
       "  <tbody>\n",
       "    <tr>\n",
       "      <th>0</th>\n",
       "      <td>Austria</td>\n",
       "      <td>2021-01-08</td>\n",
       "      <td>Johnson&amp;Johnson</td>\n",
       "      <td>0</td>\n",
       "    </tr>\n",
       "    <tr>\n",
       "      <th>1</th>\n",
       "      <td>Austria</td>\n",
       "      <td>2021-01-08</td>\n",
       "      <td>Moderna</td>\n",
       "      <td>0</td>\n",
       "    </tr>\n",
       "    <tr>\n",
       "      <th>2</th>\n",
       "      <td>Austria</td>\n",
       "      <td>2021-01-08</td>\n",
       "      <td>Oxford/AstraZeneca</td>\n",
       "      <td>0</td>\n",
       "    </tr>\n",
       "    <tr>\n",
       "      <th>3</th>\n",
       "      <td>Austria</td>\n",
       "      <td>2021-01-08</td>\n",
       "      <td>Pfizer/BioNTech</td>\n",
       "      <td>30974</td>\n",
       "    </tr>\n",
       "    <tr>\n",
       "      <th>4</th>\n",
       "      <td>Austria</td>\n",
       "      <td>2021-01-15</td>\n",
       "      <td>Johnson&amp;Johnson</td>\n",
       "      <td>0</td>\n",
       "    </tr>\n",
       "  </tbody>\n",
       "</table>\n",
       "</div>"
      ],
      "text/plain": [
       "  location        date             vaccine  total_vaccinations\n",
       "0  Austria  2021-01-08     Johnson&Johnson                   0\n",
       "1  Austria  2021-01-08             Moderna                   0\n",
       "2  Austria  2021-01-08  Oxford/AstraZeneca                   0\n",
       "3  Austria  2021-01-08     Pfizer/BioNTech               30974\n",
       "4  Austria  2021-01-15     Johnson&Johnson                   0"
      ]
     },
     "execution_count": 4,
     "metadata": {},
     "output_type": "execute_result"
    }
   ],
   "source": [
    "df.head()"
   ]
  },
  {
   "cell_type": "code",
   "execution_count": 5,
   "metadata": {},
   "outputs": [
    {
     "data": {
      "text/plain": [
       "location              object\n",
       "date                  object\n",
       "vaccine               object\n",
       "total_vaccinations     int64\n",
       "dtype: object"
      ]
     },
     "execution_count": 5,
     "metadata": {},
     "output_type": "execute_result"
    }
   ],
   "source": [
    "df.dtypes"
   ]
  },
  {
   "cell_type": "code",
   "execution_count": 6,
   "metadata": {},
   "outputs": [
    {
     "data": {
      "text/plain": [
       "location                33\n",
       "date                   208\n",
       "vaccine                  8\n",
       "total_vaccinations    8163\n",
       "dtype: int64"
      ]
     },
     "execution_count": 6,
     "metadata": {},
     "output_type": "execute_result"
    }
   ],
   "source": [
    "df.nunique()"
   ]
  },
  {
   "cell_type": "code",
   "execution_count": 7,
   "metadata": {},
   "outputs": [
    {
     "data": {
      "text/html": [
       "<div>\n",
       "<style scoped>\n",
       "    .dataframe tbody tr th:only-of-type {\n",
       "        vertical-align: middle;\n",
       "    }\n",
       "\n",
       "    .dataframe tbody tr th {\n",
       "        vertical-align: top;\n",
       "    }\n",
       "\n",
       "    .dataframe thead th {\n",
       "        text-align: right;\n",
       "    }\n",
       "</style>\n",
       "<table border=\"1\" class=\"dataframe\">\n",
       "  <thead>\n",
       "    <tr style=\"text-align: right;\">\n",
       "      <th></th>\n",
       "      <th>location</th>\n",
       "      <th>date</th>\n",
       "      <th>vaccine</th>\n",
       "      <th>total_vaccinations</th>\n",
       "    </tr>\n",
       "  </thead>\n",
       "  <tbody>\n",
       "    <tr>\n",
       "      <th>9152</th>\n",
       "      <td>Uruguay</td>\n",
       "      <td>2021-07-14</td>\n",
       "      <td>Pfizer/BioNTech</td>\n",
       "      <td>1229299</td>\n",
       "    </tr>\n",
       "    <tr>\n",
       "      <th>9153</th>\n",
       "      <td>Uruguay</td>\n",
       "      <td>2021-07-14</td>\n",
       "      <td>Sinovac</td>\n",
       "      <td>3140277</td>\n",
       "    </tr>\n",
       "    <tr>\n",
       "      <th>9154</th>\n",
       "      <td>Uruguay</td>\n",
       "      <td>2021-07-15</td>\n",
       "      <td>Oxford/AstraZeneca</td>\n",
       "      <td>61907</td>\n",
       "    </tr>\n",
       "    <tr>\n",
       "      <th>9155</th>\n",
       "      <td>Uruguay</td>\n",
       "      <td>2021-07-15</td>\n",
       "      <td>Pfizer/BioNTech</td>\n",
       "      <td>1255929</td>\n",
       "    </tr>\n",
       "    <tr>\n",
       "      <th>9156</th>\n",
       "      <td>Uruguay</td>\n",
       "      <td>2021-07-15</td>\n",
       "      <td>Sinovac</td>\n",
       "      <td>3140557</td>\n",
       "    </tr>\n",
       "  </tbody>\n",
       "</table>\n",
       "</div>"
      ],
      "text/plain": [
       "     location        date             vaccine  total_vaccinations\n",
       "9152  Uruguay  2021-07-14     Pfizer/BioNTech             1229299\n",
       "9153  Uruguay  2021-07-14             Sinovac             3140277\n",
       "9154  Uruguay  2021-07-15  Oxford/AstraZeneca               61907\n",
       "9155  Uruguay  2021-07-15     Pfizer/BioNTech             1255929\n",
       "9156  Uruguay  2021-07-15             Sinovac             3140557"
      ]
     },
     "execution_count": 7,
     "metadata": {},
     "output_type": "execute_result"
    }
   ],
   "source": [
    "df.tail()"
   ]
  },
  {
   "cell_type": "code",
   "execution_count": 8,
   "metadata": {
    "scrolled": true
   },
   "outputs": [
    {
     "name": "stdout",
     "output_type": "stream",
     "text": [
      "<class 'pandas.core.frame.DataFrame'>\n",
      "RangeIndex: 9157 entries, 0 to 9156\n",
      "Data columns (total 4 columns):\n",
      " #   Column              Non-Null Count  Dtype \n",
      "---  ------              --------------  ----- \n",
      " 0   location            9157 non-null   object\n",
      " 1   date                9157 non-null   object\n",
      " 2   vaccine             9157 non-null   object\n",
      " 3   total_vaccinations  9157 non-null   int64 \n",
      "dtypes: int64(1), object(3)\n",
      "memory usage: 286.3+ KB\n"
     ]
    }
   ],
   "source": [
    "df.info()"
   ]
  },
  {
   "cell_type": "markdown",
   "metadata": {},
   "source": [
    "## Data Preprocessing"
   ]
  },
  {
   "cell_type": "markdown",
   "metadata": {},
   "source": [
    "<pre><h5>We have not any null data\n",
    "and we don't need vaccine and location\n",
    "so we don't encode them</h5></pre>"
   ]
  },
  {
   "cell_type": "markdown",
   "metadata": {},
   "source": [
    "<pre>le_va = LabelEncoder()\n",
    "df['vaccine'] = le_va.fit_transform(df['vaccine'])\n",
    "#====================================================\n",
    "le_lo = LabelEncoder()\n",
    "df['location'] = le_lo.fit_transform(df['location'])</pre>"
   ]
  },
  {
   "cell_type": "code",
   "execution_count": 9,
   "metadata": {},
   "outputs": [],
   "source": [
    "data = df.sort_values(by=['date'],ignore_index=True)"
   ]
  },
  {
   "cell_type": "code",
   "execution_count": 10,
   "metadata": {},
   "outputs": [
    {
     "data": {
      "text/html": [
       "<div>\n",
       "<style scoped>\n",
       "    .dataframe tbody tr th:only-of-type {\n",
       "        vertical-align: middle;\n",
       "    }\n",
       "\n",
       "    .dataframe tbody tr th {\n",
       "        vertical-align: top;\n",
       "    }\n",
       "\n",
       "    .dataframe thead th {\n",
       "        text-align: right;\n",
       "    }\n",
       "</style>\n",
       "<table border=\"1\" class=\"dataframe\">\n",
       "  <thead>\n",
       "    <tr style=\"text-align: right;\">\n",
       "      <th></th>\n",
       "      <th>location</th>\n",
       "      <th>date</th>\n",
       "      <th>vaccine</th>\n",
       "      <th>total_vaccinations</th>\n",
       "    </tr>\n",
       "  </thead>\n",
       "  <tbody>\n",
       "    <tr>\n",
       "      <th>0</th>\n",
       "      <td>Latvia</td>\n",
       "      <td>2020-12-04</td>\n",
       "      <td>Moderna</td>\n",
       "      <td>1</td>\n",
       "    </tr>\n",
       "    <tr>\n",
       "      <th>1</th>\n",
       "      <td>Latvia</td>\n",
       "      <td>2020-12-16</td>\n",
       "      <td>Pfizer/BioNTech</td>\n",
       "      <td>1</td>\n",
       "    </tr>\n",
       "    <tr>\n",
       "      <th>2</th>\n",
       "      <td>Latvia</td>\n",
       "      <td>2020-12-20</td>\n",
       "      <td>Moderna</td>\n",
       "      <td>4</td>\n",
       "    </tr>\n",
       "    <tr>\n",
       "      <th>3</th>\n",
       "      <td>Latvia</td>\n",
       "      <td>2020-12-22</td>\n",
       "      <td>Pfizer/BioNTech</td>\n",
       "      <td>3</td>\n",
       "    </tr>\n",
       "    <tr>\n",
       "      <th>4</th>\n",
       "      <td>Chile</td>\n",
       "      <td>2020-12-24</td>\n",
       "      <td>Pfizer/BioNTech</td>\n",
       "      <td>420</td>\n",
       "    </tr>\n",
       "    <tr>\n",
       "      <th>5</th>\n",
       "      <td>Chile</td>\n",
       "      <td>2020-12-25</td>\n",
       "      <td>Pfizer/BioNTech</td>\n",
       "      <td>5197</td>\n",
       "    </tr>\n",
       "    <tr>\n",
       "      <th>6</th>\n",
       "      <td>Chile</td>\n",
       "      <td>2020-12-26</td>\n",
       "      <td>Pfizer/BioNTech</td>\n",
       "      <td>8340</td>\n",
       "    </tr>\n",
       "    <tr>\n",
       "      <th>7</th>\n",
       "      <td>Italy</td>\n",
       "      <td>2020-12-27</td>\n",
       "      <td>Pfizer/BioNTech</td>\n",
       "      <td>7222</td>\n",
       "    </tr>\n",
       "    <tr>\n",
       "      <th>8</th>\n",
       "      <td>Germany</td>\n",
       "      <td>2020-12-27</td>\n",
       "      <td>Oxford/AstraZeneca</td>\n",
       "      <td>0</td>\n",
       "    </tr>\n",
       "    <tr>\n",
       "      <th>9</th>\n",
       "      <td>Germany</td>\n",
       "      <td>2020-12-27</td>\n",
       "      <td>Pfizer/BioNTech</td>\n",
       "      <td>24092</td>\n",
       "    </tr>\n",
       "  </tbody>\n",
       "</table>\n",
       "</div>"
      ],
      "text/plain": [
       "  location        date             vaccine  total_vaccinations\n",
       "0   Latvia  2020-12-04             Moderna                   1\n",
       "1   Latvia  2020-12-16     Pfizer/BioNTech                   1\n",
       "2   Latvia  2020-12-20             Moderna                   4\n",
       "3   Latvia  2020-12-22     Pfizer/BioNTech                   3\n",
       "4    Chile  2020-12-24     Pfizer/BioNTech                 420\n",
       "5    Chile  2020-12-25     Pfizer/BioNTech                5197\n",
       "6    Chile  2020-12-26     Pfizer/BioNTech                8340\n",
       "7    Italy  2020-12-27     Pfizer/BioNTech                7222\n",
       "8  Germany  2020-12-27  Oxford/AstraZeneca                   0\n",
       "9  Germany  2020-12-27     Pfizer/BioNTech               24092"
      ]
     },
     "execution_count": 10,
     "metadata": {},
     "output_type": "execute_result"
    }
   ],
   "source": [
    "data.head(10)"
   ]
  },
  {
   "cell_type": "code",
   "execution_count": 11,
   "metadata": {},
   "outputs": [],
   "source": [
    "TV = 0               #Total Vaccinations \n",
    "counter = 0\n",
    "for i in data['total_vaccinations']:\n",
    "    TV += i\n",
    "    data['total_vaccinations'][counter] = TV\n",
    "    counter += 1"
   ]
  },
  {
   "cell_type": "code",
   "execution_count": 12,
   "metadata": {},
   "outputs": [
    {
     "data": {
      "text/html": [
       "<div>\n",
       "<style scoped>\n",
       "    .dataframe tbody tr th:only-of-type {\n",
       "        vertical-align: middle;\n",
       "    }\n",
       "\n",
       "    .dataframe tbody tr th {\n",
       "        vertical-align: top;\n",
       "    }\n",
       "\n",
       "    .dataframe thead th {\n",
       "        text-align: right;\n",
       "    }\n",
       "</style>\n",
       "<table border=\"1\" class=\"dataframe\">\n",
       "  <thead>\n",
       "    <tr style=\"text-align: right;\">\n",
       "      <th></th>\n",
       "      <th>location</th>\n",
       "      <th>date</th>\n",
       "      <th>vaccine</th>\n",
       "      <th>total_vaccinations</th>\n",
       "    </tr>\n",
       "  </thead>\n",
       "  <tbody>\n",
       "    <tr>\n",
       "      <th>0</th>\n",
       "      <td>Latvia</td>\n",
       "      <td>2020-12-04</td>\n",
       "      <td>Moderna</td>\n",
       "      <td>1</td>\n",
       "    </tr>\n",
       "    <tr>\n",
       "      <th>1</th>\n",
       "      <td>Latvia</td>\n",
       "      <td>2020-12-16</td>\n",
       "      <td>Pfizer/BioNTech</td>\n",
       "      <td>2</td>\n",
       "    </tr>\n",
       "    <tr>\n",
       "      <th>2</th>\n",
       "      <td>Latvia</td>\n",
       "      <td>2020-12-20</td>\n",
       "      <td>Moderna</td>\n",
       "      <td>6</td>\n",
       "    </tr>\n",
       "    <tr>\n",
       "      <th>3</th>\n",
       "      <td>Latvia</td>\n",
       "      <td>2020-12-22</td>\n",
       "      <td>Pfizer/BioNTech</td>\n",
       "      <td>9</td>\n",
       "    </tr>\n",
       "    <tr>\n",
       "      <th>4</th>\n",
       "      <td>Chile</td>\n",
       "      <td>2020-12-24</td>\n",
       "      <td>Pfizer/BioNTech</td>\n",
       "      <td>429</td>\n",
       "    </tr>\n",
       "    <tr>\n",
       "      <th>5</th>\n",
       "      <td>Chile</td>\n",
       "      <td>2020-12-25</td>\n",
       "      <td>Pfizer/BioNTech</td>\n",
       "      <td>5626</td>\n",
       "    </tr>\n",
       "    <tr>\n",
       "      <th>6</th>\n",
       "      <td>Chile</td>\n",
       "      <td>2020-12-26</td>\n",
       "      <td>Pfizer/BioNTech</td>\n",
       "      <td>13966</td>\n",
       "    </tr>\n",
       "    <tr>\n",
       "      <th>7</th>\n",
       "      <td>Italy</td>\n",
       "      <td>2020-12-27</td>\n",
       "      <td>Pfizer/BioNTech</td>\n",
       "      <td>21188</td>\n",
       "    </tr>\n",
       "    <tr>\n",
       "      <th>8</th>\n",
       "      <td>Germany</td>\n",
       "      <td>2020-12-27</td>\n",
       "      <td>Oxford/AstraZeneca</td>\n",
       "      <td>21188</td>\n",
       "    </tr>\n",
       "    <tr>\n",
       "      <th>9</th>\n",
       "      <td>Germany</td>\n",
       "      <td>2020-12-27</td>\n",
       "      <td>Pfizer/BioNTech</td>\n",
       "      <td>45280</td>\n",
       "    </tr>\n",
       "    <tr>\n",
       "      <th>10</th>\n",
       "      <td>Chile</td>\n",
       "      <td>2020-12-27</td>\n",
       "      <td>Pfizer/BioNTech</td>\n",
       "      <td>53931</td>\n",
       "    </tr>\n",
       "    <tr>\n",
       "      <th>11</th>\n",
       "      <td>Germany</td>\n",
       "      <td>2020-12-27</td>\n",
       "      <td>Johnson&amp;Johnson</td>\n",
       "      <td>53931</td>\n",
       "    </tr>\n",
       "    <tr>\n",
       "      <th>12</th>\n",
       "      <td>France</td>\n",
       "      <td>2020-12-27</td>\n",
       "      <td>Pfizer/BioNTech</td>\n",
       "      <td>53953</td>\n",
       "    </tr>\n",
       "    <tr>\n",
       "      <th>13</th>\n",
       "      <td>Czechia</td>\n",
       "      <td>2020-12-27</td>\n",
       "      <td>Pfizer/BioNTech</td>\n",
       "      <td>55210</td>\n",
       "    </tr>\n",
       "    <tr>\n",
       "      <th>14</th>\n",
       "      <td>Germany</td>\n",
       "      <td>2020-12-27</td>\n",
       "      <td>Moderna</td>\n",
       "      <td>55212</td>\n",
       "    </tr>\n",
       "  </tbody>\n",
       "</table>\n",
       "</div>"
      ],
      "text/plain": [
       "   location        date             vaccine  total_vaccinations\n",
       "0    Latvia  2020-12-04             Moderna                   1\n",
       "1    Latvia  2020-12-16     Pfizer/BioNTech                   2\n",
       "2    Latvia  2020-12-20             Moderna                   6\n",
       "3    Latvia  2020-12-22     Pfizer/BioNTech                   9\n",
       "4     Chile  2020-12-24     Pfizer/BioNTech                 429\n",
       "5     Chile  2020-12-25     Pfizer/BioNTech                5626\n",
       "6     Chile  2020-12-26     Pfizer/BioNTech               13966\n",
       "7     Italy  2020-12-27     Pfizer/BioNTech               21188\n",
       "8   Germany  2020-12-27  Oxford/AstraZeneca               21188\n",
       "9   Germany  2020-12-27     Pfizer/BioNTech               45280\n",
       "10    Chile  2020-12-27     Pfizer/BioNTech               53931\n",
       "11  Germany  2020-12-27     Johnson&Johnson               53931\n",
       "12   France  2020-12-27     Pfizer/BioNTech               53953\n",
       "13  Czechia  2020-12-27     Pfizer/BioNTech               55210\n",
       "14  Germany  2020-12-27             Moderna               55212"
      ]
     },
     "execution_count": 12,
     "metadata": {},
     "output_type": "execute_result"
    }
   ],
   "source": [
    "data.head(15)"
   ]
  },
  {
   "cell_type": "code",
   "execution_count": 13,
   "metadata": {},
   "outputs": [],
   "source": [
    "data['date'] = pd.to_datetime(data.date)\n",
    "data['year'] = pd.DatetimeIndex(data['date']).year\n",
    "data['month'] = pd.DatetimeIndex(data['date']).month\n",
    "data['day'] = pd.DatetimeIndex(data['date']).day"
   ]
  },
  {
   "cell_type": "code",
   "execution_count": 14,
   "metadata": {},
   "outputs": [
    {
     "data": {
      "text/html": [
       "<div>\n",
       "<style scoped>\n",
       "    .dataframe tbody tr th:only-of-type {\n",
       "        vertical-align: middle;\n",
       "    }\n",
       "\n",
       "    .dataframe tbody tr th {\n",
       "        vertical-align: top;\n",
       "    }\n",
       "\n",
       "    .dataframe thead th {\n",
       "        text-align: right;\n",
       "    }\n",
       "</style>\n",
       "<table border=\"1\" class=\"dataframe\">\n",
       "  <thead>\n",
       "    <tr style=\"text-align: right;\">\n",
       "      <th></th>\n",
       "      <th>location</th>\n",
       "      <th>date</th>\n",
       "      <th>vaccine</th>\n",
       "      <th>total_vaccinations</th>\n",
       "      <th>year</th>\n",
       "      <th>month</th>\n",
       "      <th>day</th>\n",
       "    </tr>\n",
       "  </thead>\n",
       "  <tbody>\n",
       "    <tr>\n",
       "      <th>0</th>\n",
       "      <td>Latvia</td>\n",
       "      <td>2020-12-04</td>\n",
       "      <td>Moderna</td>\n",
       "      <td>1</td>\n",
       "      <td>2020</td>\n",
       "      <td>12</td>\n",
       "      <td>4</td>\n",
       "    </tr>\n",
       "    <tr>\n",
       "      <th>1</th>\n",
       "      <td>Latvia</td>\n",
       "      <td>2020-12-16</td>\n",
       "      <td>Pfizer/BioNTech</td>\n",
       "      <td>2</td>\n",
       "      <td>2020</td>\n",
       "      <td>12</td>\n",
       "      <td>16</td>\n",
       "    </tr>\n",
       "    <tr>\n",
       "      <th>2</th>\n",
       "      <td>Latvia</td>\n",
       "      <td>2020-12-20</td>\n",
       "      <td>Moderna</td>\n",
       "      <td>6</td>\n",
       "      <td>2020</td>\n",
       "      <td>12</td>\n",
       "      <td>20</td>\n",
       "    </tr>\n",
       "    <tr>\n",
       "      <th>3</th>\n",
       "      <td>Latvia</td>\n",
       "      <td>2020-12-22</td>\n",
       "      <td>Pfizer/BioNTech</td>\n",
       "      <td>9</td>\n",
       "      <td>2020</td>\n",
       "      <td>12</td>\n",
       "      <td>22</td>\n",
       "    </tr>\n",
       "    <tr>\n",
       "      <th>4</th>\n",
       "      <td>Chile</td>\n",
       "      <td>2020-12-24</td>\n",
       "      <td>Pfizer/BioNTech</td>\n",
       "      <td>429</td>\n",
       "      <td>2020</td>\n",
       "      <td>12</td>\n",
       "      <td>24</td>\n",
       "    </tr>\n",
       "  </tbody>\n",
       "</table>\n",
       "</div>"
      ],
      "text/plain": [
       "  location       date          vaccine  total_vaccinations  year  month  day\n",
       "0   Latvia 2020-12-04          Moderna                   1  2020     12    4\n",
       "1   Latvia 2020-12-16  Pfizer/BioNTech                   2  2020     12   16\n",
       "2   Latvia 2020-12-20          Moderna                   6  2020     12   20\n",
       "3   Latvia 2020-12-22  Pfizer/BioNTech                   9  2020     12   22\n",
       "4    Chile 2020-12-24  Pfizer/BioNTech                 429  2020     12   24"
      ]
     },
     "execution_count": 14,
     "metadata": {},
     "output_type": "execute_result"
    }
   ],
   "source": [
    "data.head()"
   ]
  },
  {
   "cell_type": "code",
   "execution_count": 15,
   "metadata": {},
   "outputs": [],
   "source": [
    "data2 = data.groupby(['year','month','day'])['total_vaccinations'].max().to_frame()"
   ]
  },
  {
   "cell_type": "code",
   "execution_count": 16,
   "metadata": {},
   "outputs": [
    {
     "data": {
      "text/html": [
       "<div>\n",
       "<style scoped>\n",
       "    .dataframe tbody tr th:only-of-type {\n",
       "        vertical-align: middle;\n",
       "    }\n",
       "\n",
       "    .dataframe tbody tr th {\n",
       "        vertical-align: top;\n",
       "    }\n",
       "\n",
       "    .dataframe thead th {\n",
       "        text-align: right;\n",
       "    }\n",
       "</style>\n",
       "<table border=\"1\" class=\"dataframe\">\n",
       "  <thead>\n",
       "    <tr style=\"text-align: right;\">\n",
       "      <th></th>\n",
       "      <th></th>\n",
       "      <th></th>\n",
       "      <th>total_vaccinations</th>\n",
       "    </tr>\n",
       "    <tr>\n",
       "      <th>year</th>\n",
       "      <th>month</th>\n",
       "      <th>day</th>\n",
       "      <th></th>\n",
       "    </tr>\n",
       "  </thead>\n",
       "  <tbody>\n",
       "    <tr>\n",
       "      <th rowspan=\"12\" valign=\"top\">2020</th>\n",
       "      <th rowspan=\"12\" valign=\"top\">12</th>\n",
       "      <th>4</th>\n",
       "      <td>1</td>\n",
       "    </tr>\n",
       "    <tr>\n",
       "      <th>16</th>\n",
       "      <td>2</td>\n",
       "    </tr>\n",
       "    <tr>\n",
       "      <th>20</th>\n",
       "      <td>6</td>\n",
       "    </tr>\n",
       "    <tr>\n",
       "      <th>22</th>\n",
       "      <td>9</td>\n",
       "    </tr>\n",
       "    <tr>\n",
       "      <th>24</th>\n",
       "      <td>429</td>\n",
       "    </tr>\n",
       "    <tr>\n",
       "      <th>25</th>\n",
       "      <td>5626</td>\n",
       "    </tr>\n",
       "    <tr>\n",
       "      <th>26</th>\n",
       "      <td>13966</td>\n",
       "    </tr>\n",
       "    <tr>\n",
       "      <th>27</th>\n",
       "      <td>58631</td>\n",
       "    </tr>\n",
       "    <tr>\n",
       "      <th>28</th>\n",
       "      <td>129449</td>\n",
       "    </tr>\n",
       "    <tr>\n",
       "      <th>29</th>\n",
       "      <td>261890</td>\n",
       "    </tr>\n",
       "    <tr>\n",
       "      <th>30</th>\n",
       "      <td>473722</td>\n",
       "    </tr>\n",
       "    <tr>\n",
       "      <th>31</th>\n",
       "      <td>766770</td>\n",
       "    </tr>\n",
       "    <tr>\n",
       "      <th rowspan=\"8\" valign=\"top\">2021</th>\n",
       "      <th rowspan=\"8\" valign=\"top\">1</th>\n",
       "      <th>1</th>\n",
       "      <td>1115161</td>\n",
       "    </tr>\n",
       "    <tr>\n",
       "      <th>2</th>\n",
       "      <td>1535762</td>\n",
       "    </tr>\n",
       "    <tr>\n",
       "      <th>3</th>\n",
       "      <td>2015416</td>\n",
       "    </tr>\n",
       "    <tr>\n",
       "      <th>4</th>\n",
       "      <td>2627862</td>\n",
       "    </tr>\n",
       "    <tr>\n",
       "      <th>5</th>\n",
       "      <td>3400852</td>\n",
       "    </tr>\n",
       "    <tr>\n",
       "      <th>6</th>\n",
       "      <td>4339771</td>\n",
       "    </tr>\n",
       "    <tr>\n",
       "      <th>7</th>\n",
       "      <td>5484257</td>\n",
       "    </tr>\n",
       "    <tr>\n",
       "      <th>8</th>\n",
       "      <td>8099425</td>\n",
       "    </tr>\n",
       "  </tbody>\n",
       "</table>\n",
       "</div>"
      ],
      "text/plain": [
       "                total_vaccinations\n",
       "year month day                    \n",
       "2020 12    4                     1\n",
       "           16                    2\n",
       "           20                    6\n",
       "           22                    9\n",
       "           24                  429\n",
       "           25                 5626\n",
       "           26                13966\n",
       "           27                58631\n",
       "           28               129449\n",
       "           29               261890\n",
       "           30               473722\n",
       "           31               766770\n",
       "2021 1     1               1115161\n",
       "           2               1535762\n",
       "           3               2015416\n",
       "           4               2627862\n",
       "           5               3400852\n",
       "           6               4339771\n",
       "           7               5484257\n",
       "           8               8099425"
      ]
     },
     "execution_count": 16,
     "metadata": {},
     "output_type": "execute_result"
    }
   ],
   "source": [
    "data2[0:20]"
   ]
  },
  {
   "cell_type": "code",
   "execution_count": 17,
   "metadata": {},
   "outputs": [],
   "source": [
    "data2.index.values\n",
    "indexes = data2.index.values"
   ]
  },
  {
   "cell_type": "code",
   "execution_count": 18,
   "metadata": {},
   "outputs": [
    {
     "name": "stdout",
     "output_type": "stream",
     "text": [
      "2020\n",
      "12\n",
      "4\n",
      "(208,)\n",
      "(208, 1)\n"
     ]
    }
   ],
   "source": [
    "print(indexes[0][0])\n",
    "print(indexes[0][1])\n",
    "print(indexes[0][2])\n",
    "print(indexes.shape)\n",
    "print(data2.shape)"
   ]
  },
  {
   "cell_type": "code",
   "execution_count": 19,
   "metadata": {},
   "outputs": [
    {
     "data": {
      "text/plain": [
       "(2020, 12, 4)"
      ]
     },
     "execution_count": 19,
     "metadata": {},
     "output_type": "execute_result"
    }
   ],
   "source": [
    "indexes[0]"
   ]
  },
  {
   "cell_type": "code",
   "execution_count": 20,
   "metadata": {},
   "outputs": [
    {
     "data": {
      "text/html": [
       "<div>\n",
       "<style scoped>\n",
       "    .dataframe tbody tr th:only-of-type {\n",
       "        vertical-align: middle;\n",
       "    }\n",
       "\n",
       "    .dataframe tbody tr th {\n",
       "        vertical-align: top;\n",
       "    }\n",
       "\n",
       "    .dataframe thead th {\n",
       "        text-align: right;\n",
       "    }\n",
       "</style>\n",
       "<table border=\"1\" class=\"dataframe\">\n",
       "  <thead>\n",
       "    <tr style=\"text-align: right;\">\n",
       "      <th></th>\n",
       "      <th>location</th>\n",
       "      <th>date</th>\n",
       "      <th>vaccine</th>\n",
       "      <th>total_vaccinations</th>\n",
       "      <th>year</th>\n",
       "      <th>month</th>\n",
       "      <th>day</th>\n",
       "    </tr>\n",
       "  </thead>\n",
       "  <tbody>\n",
       "    <tr>\n",
       "      <th>0</th>\n",
       "      <td>Latvia</td>\n",
       "      <td>2020-12-04</td>\n",
       "      <td>Moderna</td>\n",
       "      <td>1</td>\n",
       "      <td>2020</td>\n",
       "      <td>12</td>\n",
       "      <td>4</td>\n",
       "    </tr>\n",
       "    <tr>\n",
       "      <th>1</th>\n",
       "      <td>Latvia</td>\n",
       "      <td>2020-12-16</td>\n",
       "      <td>Pfizer/BioNTech</td>\n",
       "      <td>2</td>\n",
       "      <td>2020</td>\n",
       "      <td>12</td>\n",
       "      <td>16</td>\n",
       "    </tr>\n",
       "    <tr>\n",
       "      <th>2</th>\n",
       "      <td>Latvia</td>\n",
       "      <td>2020-12-20</td>\n",
       "      <td>Moderna</td>\n",
       "      <td>6</td>\n",
       "      <td>2020</td>\n",
       "      <td>12</td>\n",
       "      <td>20</td>\n",
       "    </tr>\n",
       "    <tr>\n",
       "      <th>3</th>\n",
       "      <td>Latvia</td>\n",
       "      <td>2020-12-22</td>\n",
       "      <td>Pfizer/BioNTech</td>\n",
       "      <td>9</td>\n",
       "      <td>2020</td>\n",
       "      <td>12</td>\n",
       "      <td>22</td>\n",
       "    </tr>\n",
       "    <tr>\n",
       "      <th>4</th>\n",
       "      <td>Chile</td>\n",
       "      <td>2020-12-24</td>\n",
       "      <td>Pfizer/BioNTech</td>\n",
       "      <td>429</td>\n",
       "      <td>2020</td>\n",
       "      <td>12</td>\n",
       "      <td>24</td>\n",
       "    </tr>\n",
       "    <tr>\n",
       "      <th>5</th>\n",
       "      <td>Chile</td>\n",
       "      <td>2020-12-25</td>\n",
       "      <td>Pfizer/BioNTech</td>\n",
       "      <td>5626</td>\n",
       "      <td>2020</td>\n",
       "      <td>12</td>\n",
       "      <td>25</td>\n",
       "    </tr>\n",
       "    <tr>\n",
       "      <th>6</th>\n",
       "      <td>Chile</td>\n",
       "      <td>2020-12-26</td>\n",
       "      <td>Pfizer/BioNTech</td>\n",
       "      <td>13966</td>\n",
       "      <td>2020</td>\n",
       "      <td>12</td>\n",
       "      <td>26</td>\n",
       "    </tr>\n",
       "    <tr>\n",
       "      <th>7</th>\n",
       "      <td>Italy</td>\n",
       "      <td>2020-12-27</td>\n",
       "      <td>Pfizer/BioNTech</td>\n",
       "      <td>21188</td>\n",
       "      <td>2020</td>\n",
       "      <td>12</td>\n",
       "      <td>27</td>\n",
       "    </tr>\n",
       "    <tr>\n",
       "      <th>8</th>\n",
       "      <td>Germany</td>\n",
       "      <td>2020-12-27</td>\n",
       "      <td>Oxford/AstraZeneca</td>\n",
       "      <td>21188</td>\n",
       "      <td>2020</td>\n",
       "      <td>12</td>\n",
       "      <td>27</td>\n",
       "    </tr>\n",
       "    <tr>\n",
       "      <th>9</th>\n",
       "      <td>Germany</td>\n",
       "      <td>2020-12-27</td>\n",
       "      <td>Pfizer/BioNTech</td>\n",
       "      <td>45280</td>\n",
       "      <td>2020</td>\n",
       "      <td>12</td>\n",
       "      <td>27</td>\n",
       "    </tr>\n",
       "  </tbody>\n",
       "</table>\n",
       "</div>"
      ],
      "text/plain": [
       "  location       date             vaccine  total_vaccinations  year  month  \\\n",
       "0   Latvia 2020-12-04             Moderna                   1  2020     12   \n",
       "1   Latvia 2020-12-16     Pfizer/BioNTech                   2  2020     12   \n",
       "2   Latvia 2020-12-20             Moderna                   6  2020     12   \n",
       "3   Latvia 2020-12-22     Pfizer/BioNTech                   9  2020     12   \n",
       "4    Chile 2020-12-24     Pfizer/BioNTech                 429  2020     12   \n",
       "5    Chile 2020-12-25     Pfizer/BioNTech                5626  2020     12   \n",
       "6    Chile 2020-12-26     Pfizer/BioNTech               13966  2020     12   \n",
       "7    Italy 2020-12-27     Pfizer/BioNTech               21188  2020     12   \n",
       "8  Germany 2020-12-27  Oxford/AstraZeneca               21188  2020     12   \n",
       "9  Germany 2020-12-27     Pfizer/BioNTech               45280  2020     12   \n",
       "\n",
       "   day  \n",
       "0    4  \n",
       "1   16  \n",
       "2   20  \n",
       "3   22  \n",
       "4   24  \n",
       "5   25  \n",
       "6   26  \n",
       "7   27  \n",
       "8   27  \n",
       "9   27  "
      ]
     },
     "execution_count": 20,
     "metadata": {},
     "output_type": "execute_result"
    }
   ],
   "source": [
    "data[0:10]"
   ]
  },
  {
   "cell_type": "code",
   "execution_count": 21,
   "metadata": {},
   "outputs": [],
   "source": [
    "df2 = pd.DataFrame({\"year\":[],\"month\":[],\"day\":[],\"total_vaccinations\":[]})"
   ]
  },
  {
   "cell_type": "code",
   "execution_count": 22,
   "metadata": {},
   "outputs": [
    {
     "data": {
      "text/html": [
       "<div>\n",
       "<style scoped>\n",
       "    .dataframe tbody tr th:only-of-type {\n",
       "        vertical-align: middle;\n",
       "    }\n",
       "\n",
       "    .dataframe tbody tr th {\n",
       "        vertical-align: top;\n",
       "    }\n",
       "\n",
       "    .dataframe thead th {\n",
       "        text-align: right;\n",
       "    }\n",
       "</style>\n",
       "<table border=\"1\" class=\"dataframe\">\n",
       "  <thead>\n",
       "    <tr style=\"text-align: right;\">\n",
       "      <th></th>\n",
       "      <th>year</th>\n",
       "      <th>month</th>\n",
       "      <th>day</th>\n",
       "      <th>total_vaccinations</th>\n",
       "    </tr>\n",
       "  </thead>\n",
       "  <tbody>\n",
       "  </tbody>\n",
       "</table>\n",
       "</div>"
      ],
      "text/plain": [
       "Empty DataFrame\n",
       "Columns: [year, month, day, total_vaccinations]\n",
       "Index: []"
      ]
     },
     "execution_count": 22,
     "metadata": {},
     "output_type": "execute_result"
    }
   ],
   "source": [
    "df2.head()"
   ]
  },
  {
   "cell_type": "code",
   "execution_count": 23,
   "metadata": {},
   "outputs": [],
   "source": [
    "for i in range(208):\n",
    "    to_append = [indexes[i][0]]\n",
    "    to_append.append(indexes[i][1])\n",
    "    to_append.append(indexes[i][2])\n",
    "    \n",
    "    total = data2.iloc[i,0]\n",
    "    \n",
    "    to_append.append(total)\n",
    "    \n",
    "    df2_length = len(df2)\n",
    "    df2.loc[df2_length] = to_append"
   ]
  },
  {
   "cell_type": "code",
   "execution_count": 24,
   "metadata": {},
   "outputs": [
    {
     "name": "stdout",
     "output_type": "stream",
     "text": [
      "year                  2.021000e+03\n",
      "month                 7.000000e+00\n",
      "day                   1.500000e+01\n",
      "total_vaccinations    5.516972e+10\n",
      "Name: 207, dtype: float64\n"
     ]
    }
   ],
   "source": [
    "print(df2.iloc[-1,:])"
   ]
  },
  {
   "cell_type": "code",
   "execution_count": 25,
   "metadata": {},
   "outputs": [
    {
     "name": "stdout",
     "output_type": "stream",
     "text": [
      "=====================  dataframe : df  ===================== \n",
      "\n",
      "\n",
      "     location        date             vaccine  total_vaccinations\n",
      "0     Austria  2021-01-08     Johnson&Johnson                   0\n",
      "1     Austria  2021-01-08             Moderna                   0\n",
      "2     Austria  2021-01-08  Oxford/AstraZeneca                   0\n",
      "3     Austria  2021-01-08     Pfizer/BioNTech               30974\n",
      "4     Austria  2021-01-15     Johnson&Johnson                   0\n",
      "...       ...         ...                 ...                 ...\n",
      "9152  Uruguay  2021-07-14     Pfizer/BioNTech             1229299\n",
      "9153  Uruguay  2021-07-14             Sinovac             3140277\n",
      "9154  Uruguay  2021-07-15  Oxford/AstraZeneca               61907\n",
      "9155  Uruguay  2021-07-15     Pfizer/BioNTech             1255929\n",
      "9156  Uruguay  2021-07-15             Sinovac             3140557\n",
      "\n",
      "[9157 rows x 4 columns]\n",
      "\n",
      "\n",
      "\n",
      "====================  dataframe : df2  ===================== \n",
      "\n",
      "\n",
      "       year  month   day  total_vaccinations\n",
      "0    2020.0   12.0   4.0        1.000000e+00\n",
      "1    2020.0   12.0  16.0        2.000000e+00\n",
      "2    2020.0   12.0  20.0        6.000000e+00\n",
      "3    2020.0   12.0  22.0        9.000000e+00\n",
      "4    2020.0   12.0  24.0        4.290000e+02\n",
      "..      ...    ...   ...                 ...\n",
      "203  2021.0    7.0  11.0        5.252844e+10\n",
      "204  2021.0    7.0  12.0        5.317971e+10\n",
      "205  2021.0    7.0  13.0        5.397055e+10\n",
      "206  2021.0    7.0  14.0        5.460474e+10\n",
      "207  2021.0    7.0  15.0        5.516972e+10\n",
      "\n",
      "[208 rows x 4 columns]\n",
      "\n",
      "\n",
      "\n",
      "====================  dataframe : data  ==================== \n",
      "\n",
      "\n",
      "           location       date             vaccine  total_vaccinations  year  \\\n",
      "0            Latvia 2020-12-04             Moderna                   1  2020   \n",
      "1            Latvia 2020-12-16     Pfizer/BioNTech                   2  2020   \n",
      "2            Latvia 2020-12-20             Moderna                   6  2020   \n",
      "3            Latvia 2020-12-22     Pfizer/BioNTech                   9  2020   \n",
      "4             Chile 2020-12-24     Pfizer/BioNTech                 429  2020   \n",
      "...             ...        ...                 ...                 ...   ...   \n",
      "9152      Lithuania 2021-07-15  Oxford/AstraZeneca         54965498466  2021   \n",
      "9153      Lithuania 2021-07-15     Pfizer/BioNTech         54967132675  2021   \n",
      "9154  United States 2021-07-15     Johnson&Johnson         54980069269  2021   \n",
      "9155  United States 2021-07-15     Pfizer/BioNTech         55166578473  2021   \n",
      "9156        Uruguay 2021-07-15             Sinovac         55169719030  2021   \n",
      "\n",
      "      month  day  \n",
      "0        12    4  \n",
      "1        12   16  \n",
      "2        12   20  \n",
      "3        12   22  \n",
      "4        12   24  \n",
      "...     ...  ...  \n",
      "9152      7   15  \n",
      "9153      7   15  \n",
      "9154      7   15  \n",
      "9155      7   15  \n",
      "9156      7   15  \n",
      "\n",
      "[9157 rows x 7 columns]\n",
      "\n",
      "\n",
      "\n",
      "===================  dataframe : data2  ==================== \n",
      "\n",
      "\n",
      "                total_vaccinations\n",
      "year month day                    \n",
      "2020 12    4                     1\n",
      "           16                    2\n",
      "           20                    6\n",
      "           22                    9\n",
      "           24                  429\n",
      "...                            ...\n",
      "2021 7     11          52528443783\n",
      "           12          53179705129\n",
      "           13          53970545706\n",
      "           14          54604740693\n",
      "           15          55169719030\n",
      "\n",
      "[208 rows x 1 columns]\n"
     ]
    }
   ],
   "source": [
    "print(\"  dataframe : df  \".center(60, \"=\"),'\\n\\n')\n",
    "print(df)\n",
    "print('\\n\\n')\n",
    "print(\"  dataframe : df2  \".center(60, \"=\"),'\\n\\n')\n",
    "print(df2)\n",
    "print('\\n\\n')\n",
    "print(\"  dataframe : data  \".center(60, \"=\"),'\\n\\n')\n",
    "print(data)\n",
    "print('\\n\\n')\n",
    "print(\"  dataframe : data2  \".center(60, \"=\"),'\\n\\n')\n",
    "print(data2)"
   ]
  },
  {
   "cell_type": "markdown",
   "metadata": {},
   "source": [
    "## Strorytelling - Visualization"
   ]
  },
  {
   "cell_type": "code",
   "execution_count": 26,
   "metadata": {},
   "outputs": [
    {
     "data": {
      "text/plain": [
       "<seaborn.axisgrid.FacetGrid at 0x28c02e4e0d0>"
      ]
     },
     "execution_count": 26,
     "metadata": {},
     "output_type": "execute_result"
    },
    {
     "data": {
      "image/png": "[encoded data removed]",
      "text/plain": [
       "<Figure size 496.375x360 with 1 Axes>"
      ]
     },
     "metadata": {
      "needs_background": "light"
     },
     "output_type": "display_data"
    }
   ],
   "source": [
    "sns.displot(df,x='vaccine',hue='vaccine',shrink=0.5)\n",
    "#add hue for see better vaccine names"
   ]
  },
  {
   "cell_type": "code",
   "execution_count": 27,
   "metadata": {},
   "outputs": [
    {
     "data": {
      "text/plain": [
       "<seaborn.axisgrid.FacetGrid at 0x28c02ebfc70>"
      ]
     },
     "execution_count": 27,
     "metadata": {},
     "output_type": "execute_result"
    },
    {
     "data": {
      "image/png": "[encoded data removed]",
      "text/plain": [
       "<Figure size 360x360 with 1 Axes>"
      ]
     },
     "metadata": {
      "needs_background": "light"
     },
     "output_type": "display_data"
    }
   ],
   "source": [
    "sns.displot(df,x='total_vaccinations')"
   ]
  },
  {
   "cell_type": "code",
   "execution_count": 28,
   "metadata": {
    "scrolled": true
   },
   "outputs": [
    {
     "data": {
      "text/plain": [
       "<AxesSubplot:xlabel='total_vaccinations', ylabel='vaccine'>"
      ]
     },
     "execution_count": 28,
     "metadata": {},
     "output_type": "execute_result"
    },
    {
     "data": {
      "image/png": "[encoded data removed]",
      "text/plain": [
       "<Figure size 432x288 with 1 Axes>"
      ]
     },
     "metadata": {
      "needs_background": "light"
     },
     "output_type": "display_data"
    }
   ],
   "source": [
    "sns.barplot(x='total_vaccinations',y='vaccine',data=df)"
   ]
  },
  {
   "cell_type": "code",
   "execution_count": 29,
   "metadata": {},
   "outputs": [
    {
     "data": {
      "text/plain": [
       "<seaborn.axisgrid.FacetGrid at 0x28c03689fa0>"
      ]
     },
     "execution_count": 29,
     "metadata": {},
     "output_type": "execute_result"
    },
    {
     "data": {
      "image/png": "[encoded data removed]",
      "text/plain": [
       "<Figure size 360x360 with 1 Axes>"
      ]
     },
     "metadata": {
      "needs_background": "light"
     },
     "output_type": "display_data"
    }
   ],
   "source": [
    "sns.catplot(x='total_vaccinations',y='vaccine',data=df)"
   ]
  },
  {
   "cell_type": "code",
   "execution_count": 30,
   "metadata": {},
   "outputs": [
    {
     "data": {
      "text/plain": [
       "<seaborn.axisgrid.FacetGrid at 0x28c037ed640>"
      ]
     },
     "execution_count": 30,
     "metadata": {},
     "output_type": "execute_result"
    },
    {
     "data": {
      "image/png": "[encoded data removed]",
      "text/plain": [
       "<Figure size 360x360 with 1 Axes>"
      ]
     },
     "metadata": {
      "needs_background": "light"
     },
     "output_type": "display_data"
    }
   ],
   "source": [
    "sns.catplot(y='vaccine',kind='count',data=df)"
   ]
  },
  {
   "cell_type": "code",
   "execution_count": 31,
   "metadata": {},
   "outputs": [
    {
     "data": {
      "text/plain": [
       "<seaborn.axisgrid.FacetGrid at 0x28c03f6ea30>"
      ]
     },
     "execution_count": 31,
     "metadata": {},
     "output_type": "execute_result"
    },
    {
     "data": {
      "image/png": "[encoded data removed]",
      "text/plain": [
       "<Figure size 360x360 with 1 Axes>"
      ]
     },
     "metadata": {
      "needs_background": "light"
     },
     "output_type": "display_data"
    }
   ],
   "source": [
    "sns.relplot(x='total_vaccinations',y='vaccine',data=df)"
   ]
  },
  {
   "cell_type": "code",
   "execution_count": 32,
   "metadata": {},
   "outputs": [
    {
     "data": {
      "text/plain": [
       "<seaborn.axisgrid.FacetGrid at 0x28c04fe4b50>"
      ]
     },
     "execution_count": 32,
     "metadata": {},
     "output_type": "execute_result"
    },
    {
     "data": {
      "image/png": "[encoded data removed]",
      "text/plain": [
       "<Figure size 360x360 with 1 Axes>"
      ]
     },
     "metadata": {
      "needs_background": "light"
     },
     "output_type": "display_data"
    }
   ],
   "source": [
    "sns.relplot(x='total_vaccinations',y='location',data=df)"
   ]
  },
  {
   "cell_type": "code",
   "execution_count": 33,
   "metadata": {
    "scrolled": true
   },
   "outputs": [
    {
     "data": {
      "text/plain": [
       "<seaborn.axisgrid.FacetGrid at 0x28c0503b2b0>"
      ]
     },
     "execution_count": 33,
     "metadata": {},
     "output_type": "execute_result"
    },
    {
     "data": {
      "image/png": "[encoded data removed]",
      "text/plain": [
       "<Figure size 496.375x360 with 1 Axes>"
      ]
     },
     "metadata": {
      "needs_background": "light"
     },
     "output_type": "display_data"
    }
   ],
   "source": [
    "sns.relplot(x='total_vaccinations',y='location',hue='vaccine',data=df)"
   ]
  },
  {
   "cell_type": "code",
   "execution_count": 34,
   "metadata": {
    "scrolled": true
   },
   "outputs": [
    {
     "data": {
      "text/plain": [
       "<AxesSubplot:xlabel='date', ylabel='total_vaccinations'>"
      ]
     },
     "execution_count": 34,
     "metadata": {},
     "output_type": "execute_result"
    },
    {
     "data": {
      "image/png": "[encoded data removed]",
      "text/plain": [
       "<Figure size 800x400 with 1 Axes>"
      ]
     },
     "metadata": {
      "needs_background": "light"
     },
     "output_type": "display_data"
    }
   ],
   "source": [
    "plt.figure(figsize=(10, 5), dpi=80)\n",
    "sns.lineplot(x='date', y='total_vaccinations', hue='vaccine', data=data)"
   ]
  },
  {
   "cell_type": "markdown",
   "metadata": {},
   "source": [
    "## Prepare Data for Machine learning"
   ]
  },
  {
   "cell_type": "code",
   "execution_count": 35,
   "metadata": {},
   "outputs": [
    {
     "data": {
      "text/html": [
       "<div>\n",
       "<style scoped>\n",
       "    .dataframe tbody tr th:only-of-type {\n",
       "        vertical-align: middle;\n",
       "    }\n",
       "\n",
       "    .dataframe tbody tr th {\n",
       "        vertical-align: top;\n",
       "    }\n",
       "\n",
       "    .dataframe thead th {\n",
       "        text-align: right;\n",
       "    }\n",
       "</style>\n",
       "<table border=\"1\" class=\"dataframe\">\n",
       "  <thead>\n",
       "    <tr style=\"text-align: right;\">\n",
       "      <th></th>\n",
       "      <th>location</th>\n",
       "      <th>date</th>\n",
       "      <th>vaccine</th>\n",
       "      <th>total_vaccinations</th>\n",
       "    </tr>\n",
       "  </thead>\n",
       "  <tbody>\n",
       "    <tr>\n",
       "      <th>0</th>\n",
       "      <td>Austria</td>\n",
       "      <td>2021-01-08</td>\n",
       "      <td>Johnson&amp;Johnson</td>\n",
       "      <td>0</td>\n",
       "    </tr>\n",
       "    <tr>\n",
       "      <th>1</th>\n",
       "      <td>Austria</td>\n",
       "      <td>2021-01-08</td>\n",
       "      <td>Moderna</td>\n",
       "      <td>0</td>\n",
       "    </tr>\n",
       "    <tr>\n",
       "      <th>2</th>\n",
       "      <td>Austria</td>\n",
       "      <td>2021-01-08</td>\n",
       "      <td>Oxford/AstraZeneca</td>\n",
       "      <td>0</td>\n",
       "    </tr>\n",
       "    <tr>\n",
       "      <th>3</th>\n",
       "      <td>Austria</td>\n",
       "      <td>2021-01-08</td>\n",
       "      <td>Pfizer/BioNTech</td>\n",
       "      <td>30974</td>\n",
       "    </tr>\n",
       "    <tr>\n",
       "      <th>4</th>\n",
       "      <td>Austria</td>\n",
       "      <td>2021-01-15</td>\n",
       "      <td>Johnson&amp;Johnson</td>\n",
       "      <td>0</td>\n",
       "    </tr>\n",
       "  </tbody>\n",
       "</table>\n",
       "</div>"
      ],
      "text/plain": [
       "  location        date             vaccine  total_vaccinations\n",
       "0  Austria  2021-01-08     Johnson&Johnson                   0\n",
       "1  Austria  2021-01-08             Moderna                   0\n",
       "2  Austria  2021-01-08  Oxford/AstraZeneca                   0\n",
       "3  Austria  2021-01-08     Pfizer/BioNTech               30974\n",
       "4  Austria  2021-01-15     Johnson&Johnson                   0"
      ]
     },
     "execution_count": 35,
     "metadata": {},
     "output_type": "execute_result"
    }
   ],
   "source": [
    "df.head()"
   ]
  },
  {
   "cell_type": "code",
   "execution_count": 36,
   "metadata": {},
   "outputs": [
    {
     "data": {
      "text/html": [
       "<div>\n",
       "<style scoped>\n",
       "    .dataframe tbody tr th:only-of-type {\n",
       "        vertical-align: middle;\n",
       "    }\n",
       "\n",
       "    .dataframe tbody tr th {\n",
       "        vertical-align: top;\n",
       "    }\n",
       "\n",
       "    .dataframe thead th {\n",
       "        text-align: right;\n",
       "    }\n",
       "</style>\n",
       "<table border=\"1\" class=\"dataframe\">\n",
       "  <thead>\n",
       "    <tr style=\"text-align: right;\">\n",
       "      <th></th>\n",
       "      <th>year</th>\n",
       "      <th>month</th>\n",
       "      <th>day</th>\n",
       "      <th>total_vaccinations</th>\n",
       "    </tr>\n",
       "  </thead>\n",
       "  <tbody>\n",
       "    <tr>\n",
       "      <th>0</th>\n",
       "      <td>2020.0</td>\n",
       "      <td>12.0</td>\n",
       "      <td>4.0</td>\n",
       "      <td>1.0</td>\n",
       "    </tr>\n",
       "    <tr>\n",
       "      <th>1</th>\n",
       "      <td>2020.0</td>\n",
       "      <td>12.0</td>\n",
       "      <td>16.0</td>\n",
       "      <td>2.0</td>\n",
       "    </tr>\n",
       "    <tr>\n",
       "      <th>2</th>\n",
       "      <td>2020.0</td>\n",
       "      <td>12.0</td>\n",
       "      <td>20.0</td>\n",
       "      <td>6.0</td>\n",
       "    </tr>\n",
       "    <tr>\n",
       "      <th>3</th>\n",
       "      <td>2020.0</td>\n",
       "      <td>12.0</td>\n",
       "      <td>22.0</td>\n",
       "      <td>9.0</td>\n",
       "    </tr>\n",
       "    <tr>\n",
       "      <th>4</th>\n",
       "      <td>2020.0</td>\n",
       "      <td>12.0</td>\n",
       "      <td>24.0</td>\n",
       "      <td>429.0</td>\n",
       "    </tr>\n",
       "  </tbody>\n",
       "</table>\n",
       "</div>"
      ],
      "text/plain": [
       "     year  month   day  total_vaccinations\n",
       "0  2020.0   12.0   4.0                 1.0\n",
       "1  2020.0   12.0  16.0                 2.0\n",
       "2  2020.0   12.0  20.0                 6.0\n",
       "3  2020.0   12.0  22.0                 9.0\n",
       "4  2020.0   12.0  24.0               429.0"
      ]
     },
     "execution_count": 36,
     "metadata": {},
     "output_type": "execute_result"
    }
   ],
   "source": [
    "df2.head()"
   ]
  },
  {
   "cell_type": "code",
   "execution_count": 37,
   "metadata": {},
   "outputs": [
    {
     "name": "stdout",
     "output_type": "stream",
     "text": [
      "<class 'pandas.core.frame.DataFrame'>\n",
      "Int64Index: 208 entries, 0 to 207\n",
      "Data columns (total 4 columns):\n",
      " #   Column              Non-Null Count  Dtype  \n",
      "---  ------              --------------  -----  \n",
      " 0   year                208 non-null    float64\n",
      " 1   month               208 non-null    float64\n",
      " 2   day                 208 non-null    float64\n",
      " 3   total_vaccinations  208 non-null    float64\n",
      "dtypes: float64(4)\n",
      "memory usage: 8.1 KB\n"
     ]
    }
   ],
   "source": [
    "df2.info()"
   ]
  },
  {
   "cell_type": "code",
   "execution_count": 38,
   "metadata": {},
   "outputs": [],
   "source": [
    "x = df2.iloc[: , [0,1,2] ].values\n",
    "y = df2.iloc[: , 3 ].values"
   ]
  },
  {
   "cell_type": "code",
   "execution_count": 39,
   "metadata": {},
   "outputs": [
    {
     "data": {
      "text/plain": [
       "array([[2.020e+03, 1.200e+01, 4.000e+00],\n",
       "       [2.020e+03, 1.200e+01, 1.600e+01],\n",
       "       [2.020e+03, 1.200e+01, 2.000e+01],\n",
       "       [2.020e+03, 1.200e+01, 2.200e+01],\n",
       "       [2.020e+03, 1.200e+01, 2.400e+01],\n",
       "       [2.020e+03, 1.200e+01, 2.500e+01],\n",
       "       [2.020e+03, 1.200e+01, 2.600e+01],\n",
       "       [2.020e+03, 1.200e+01, 2.700e+01],\n",
       "       [2.020e+03, 1.200e+01, 2.800e+01],\n",
       "       [2.020e+03, 1.200e+01, 2.900e+01],\n",
       "       [2.020e+03, 1.200e+01, 3.000e+01],\n",
       "       [2.020e+03, 1.200e+01, 3.100e+01],\n",
       "       [2.021e+03, 1.000e+00, 1.000e+00],\n",
       "       [2.021e+03, 1.000e+00, 2.000e+00],\n",
       "       [2.021e+03, 1.000e+00, 3.000e+00],\n",
       "       [2.021e+03, 1.000e+00, 4.000e+00],\n",
       "       [2.021e+03, 1.000e+00, 5.000e+00],\n",
       "       [2.021e+03, 1.000e+00, 6.000e+00],\n",
       "       [2.021e+03, 1.000e+00, 7.000e+00],\n",
       "       [2.021e+03, 1.000e+00, 8.000e+00],\n",
       "       [2.021e+03, 1.000e+00, 9.000e+00],\n",
       "       [2.021e+03, 1.000e+00, 1.000e+01],\n",
       "       [2.021e+03, 1.000e+00, 1.100e+01],\n",
       "       [2.021e+03, 1.000e+00, 1.200e+01],\n",
       "       [2.021e+03, 1.000e+00, 1.300e+01],\n",
       "       [2.021e+03, 1.000e+00, 1.400e+01],\n",
       "       [2.021e+03, 1.000e+00, 1.500e+01],\n",
       "       [2.021e+03, 1.000e+00, 1.600e+01],\n",
       "       [2.021e+03, 1.000e+00, 1.700e+01],\n",
       "       [2.021e+03, 1.000e+00, 1.800e+01],\n",
       "       [2.021e+03, 1.000e+00, 1.900e+01],\n",
       "       [2.021e+03, 1.000e+00, 2.000e+01],\n",
       "       [2.021e+03, 1.000e+00, 2.100e+01],\n",
       "       [2.021e+03, 1.000e+00, 2.200e+01],\n",
       "       [2.021e+03, 1.000e+00, 2.300e+01],\n",
       "       [2.021e+03, 1.000e+00, 2.400e+01],\n",
       "       [2.021e+03, 1.000e+00, 2.500e+01],\n",
       "       [2.021e+03, 1.000e+00, 2.600e+01],\n",
       "       [2.021e+03, 1.000e+00, 2.700e+01],\n",
       "       [2.021e+03, 1.000e+00, 2.800e+01],\n",
       "       [2.021e+03, 1.000e+00, 2.900e+01],\n",
       "       [2.021e+03, 1.000e+00, 3.000e+01],\n",
       "       [2.021e+03, 1.000e+00, 3.100e+01],\n",
       "       [2.021e+03, 2.000e+00, 1.000e+00],\n",
       "       [2.021e+03, 2.000e+00, 2.000e+00],\n",
       "       [2.021e+03, 2.000e+00, 3.000e+00],\n",
       "       [2.021e+03, 2.000e+00, 4.000e+00],\n",
       "       [2.021e+03, 2.000e+00, 5.000e+00],\n",
       "       [2.021e+03, 2.000e+00, 6.000e+00],\n",
       "       [2.021e+03, 2.000e+00, 7.000e+00],\n",
       "       [2.021e+03, 2.000e+00, 8.000e+00],\n",
       "       [2.021e+03, 2.000e+00, 9.000e+00],\n",
       "       [2.021e+03, 2.000e+00, 1.000e+01],\n",
       "       [2.021e+03, 2.000e+00, 1.100e+01],\n",
       "       [2.021e+03, 2.000e+00, 1.200e+01],\n",
       "       [2.021e+03, 2.000e+00, 1.300e+01],\n",
       "       [2.021e+03, 2.000e+00, 1.400e+01],\n",
       "       [2.021e+03, 2.000e+00, 1.500e+01],\n",
       "       [2.021e+03, 2.000e+00, 1.600e+01],\n",
       "       [2.021e+03, 2.000e+00, 1.700e+01],\n",
       "       [2.021e+03, 2.000e+00, 1.800e+01],\n",
       "       [2.021e+03, 2.000e+00, 1.900e+01],\n",
       "       [2.021e+03, 2.000e+00, 2.000e+01],\n",
       "       [2.021e+03, 2.000e+00, 2.100e+01],\n",
       "       [2.021e+03, 2.000e+00, 2.200e+01],\n",
       "       [2.021e+03, 2.000e+00, 2.300e+01],\n",
       "       [2.021e+03, 2.000e+00, 2.400e+01],\n",
       "       [2.021e+03, 2.000e+00, 2.500e+01],\n",
       "       [2.021e+03, 2.000e+00, 2.600e+01],\n",
       "       [2.021e+03, 2.000e+00, 2.700e+01],\n",
       "       [2.021e+03, 2.000e+00, 2.800e+01],\n",
       "       [2.021e+03, 3.000e+00, 1.000e+00],\n",
       "       [2.021e+03, 3.000e+00, 2.000e+00],\n",
       "       [2.021e+03, 3.000e+00, 3.000e+00],\n",
       "       [2.021e+03, 3.000e+00, 4.000e+00],\n",
       "       [2.021e+03, 3.000e+00, 5.000e+00],\n",
       "       [2.021e+03, 3.000e+00, 6.000e+00],\n",
       "       [2.021e+03, 3.000e+00, 7.000e+00],\n",
       "       [2.021e+03, 3.000e+00, 8.000e+00],\n",
       "       [2.021e+03, 3.000e+00, 9.000e+00],\n",
       "       [2.021e+03, 3.000e+00, 1.000e+01],\n",
       "       [2.021e+03, 3.000e+00, 1.100e+01],\n",
       "       [2.021e+03, 3.000e+00, 1.200e+01],\n",
       "       [2.021e+03, 3.000e+00, 1.300e+01],\n",
       "       [2.021e+03, 3.000e+00, 1.400e+01],\n",
       "       [2.021e+03, 3.000e+00, 1.500e+01],\n",
       "       [2.021e+03, 3.000e+00, 1.600e+01],\n",
       "       [2.021e+03, 3.000e+00, 1.700e+01],\n",
       "       [2.021e+03, 3.000e+00, 1.800e+01],\n",
       "       [2.021e+03, 3.000e+00, 1.900e+01],\n",
       "       [2.021e+03, 3.000e+00, 2.000e+01],\n",
       "       [2.021e+03, 3.000e+00, 2.100e+01],\n",
       "       [2.021e+03, 3.000e+00, 2.200e+01],\n",
       "       [2.021e+03, 3.000e+00, 2.300e+01],\n",
       "       [2.021e+03, 3.000e+00, 2.400e+01],\n",
       "       [2.021e+03, 3.000e+00, 2.500e+01],\n",
       "       [2.021e+03, 3.000e+00, 2.600e+01],\n",
       "       [2.021e+03, 3.000e+00, 2.700e+01],\n",
       "       [2.021e+03, 3.000e+00, 2.800e+01],\n",
       "       [2.021e+03, 3.000e+00, 2.900e+01],\n",
       "       [2.021e+03, 3.000e+00, 3.000e+01],\n",
       "       [2.021e+03, 3.000e+00, 3.100e+01],\n",
       "       [2.021e+03, 4.000e+00, 1.000e+00],\n",
       "       [2.021e+03, 4.000e+00, 2.000e+00],\n",
       "       [2.021e+03, 4.000e+00, 3.000e+00],\n",
       "       [2.021e+03, 4.000e+00, 4.000e+00],\n",
       "       [2.021e+03, 4.000e+00, 5.000e+00],\n",
       "       [2.021e+03, 4.000e+00, 6.000e+00],\n",
       "       [2.021e+03, 4.000e+00, 7.000e+00],\n",
       "       [2.021e+03, 4.000e+00, 8.000e+00],\n",
       "       [2.021e+03, 4.000e+00, 9.000e+00],\n",
       "       [2.021e+03, 4.000e+00, 1.000e+01],\n",
       "       [2.021e+03, 4.000e+00, 1.100e+01],\n",
       "       [2.021e+03, 4.000e+00, 1.200e+01],\n",
       "       [2.021e+03, 4.000e+00, 1.300e+01],\n",
       "       [2.021e+03, 4.000e+00, 1.400e+01],\n",
       "       [2.021e+03, 4.000e+00, 1.500e+01],\n",
       "       [2.021e+03, 4.000e+00, 1.600e+01],\n",
       "       [2.021e+03, 4.000e+00, 1.700e+01],\n",
       "       [2.021e+03, 4.000e+00, 1.800e+01],\n",
       "       [2.021e+03, 4.000e+00, 1.900e+01],\n",
       "       [2.021e+03, 4.000e+00, 2.000e+01],\n",
       "       [2.021e+03, 4.000e+00, 2.100e+01],\n",
       "       [2.021e+03, 4.000e+00, 2.200e+01],\n",
       "       [2.021e+03, 4.000e+00, 2.300e+01],\n",
       "       [2.021e+03, 4.000e+00, 2.400e+01],\n",
       "       [2.021e+03, 4.000e+00, 2.500e+01],\n",
       "       [2.021e+03, 4.000e+00, 2.600e+01],\n",
       "       [2.021e+03, 4.000e+00, 2.700e+01],\n",
       "       [2.021e+03, 4.000e+00, 2.800e+01],\n",
       "       [2.021e+03, 4.000e+00, 2.900e+01],\n",
       "       [2.021e+03, 4.000e+00, 3.000e+01],\n",
       "       [2.021e+03, 5.000e+00, 1.000e+00],\n",
       "       [2.021e+03, 5.000e+00, 2.000e+00],\n",
       "       [2.021e+03, 5.000e+00, 3.000e+00],\n",
       "       [2.021e+03, 5.000e+00, 4.000e+00],\n",
       "       [2.021e+03, 5.000e+00, 5.000e+00],\n",
       "       [2.021e+03, 5.000e+00, 6.000e+00],\n",
       "       [2.021e+03, 5.000e+00, 7.000e+00],\n",
       "       [2.021e+03, 5.000e+00, 8.000e+00],\n",
       "       [2.021e+03, 5.000e+00, 9.000e+00],\n",
       "       [2.021e+03, 5.000e+00, 1.000e+01],\n",
       "       [2.021e+03, 5.000e+00, 1.100e+01],\n",
       "       [2.021e+03, 5.000e+00, 1.200e+01],\n",
       "       [2.021e+03, 5.000e+00, 1.300e+01],\n",
       "       [2.021e+03, 5.000e+00, 1.400e+01],\n",
       "       [2.021e+03, 5.000e+00, 1.500e+01],\n",
       "       [2.021e+03, 5.000e+00, 1.600e+01],\n",
       "       [2.021e+03, 5.000e+00, 1.700e+01],\n",
       "       [2.021e+03, 5.000e+00, 1.800e+01],\n",
       "       [2.021e+03, 5.000e+00, 1.900e+01],\n",
       "       [2.021e+03, 5.000e+00, 2.000e+01],\n",
       "       [2.021e+03, 5.000e+00, 2.100e+01],\n",
       "       [2.021e+03, 5.000e+00, 2.200e+01],\n",
       "       [2.021e+03, 5.000e+00, 2.300e+01],\n",
       "       [2.021e+03, 5.000e+00, 2.400e+01],\n",
       "       [2.021e+03, 5.000e+00, 2.500e+01],\n",
       "       [2.021e+03, 5.000e+00, 2.600e+01],\n",
       "       [2.021e+03, 5.000e+00, 2.700e+01],\n",
       "       [2.021e+03, 5.000e+00, 2.800e+01],\n",
       "       [2.021e+03, 5.000e+00, 2.900e+01],\n",
       "       [2.021e+03, 5.000e+00, 3.000e+01],\n",
       "       [2.021e+03, 5.000e+00, 3.100e+01],\n",
       "       [2.021e+03, 6.000e+00, 1.000e+00],\n",
       "       [2.021e+03, 6.000e+00, 2.000e+00],\n",
       "       [2.021e+03, 6.000e+00, 3.000e+00],\n",
       "       [2.021e+03, 6.000e+00, 4.000e+00],\n",
       "       [2.021e+03, 6.000e+00, 5.000e+00],\n",
       "       [2.021e+03, 6.000e+00, 6.000e+00],\n",
       "       [2.021e+03, 6.000e+00, 7.000e+00],\n",
       "       [2.021e+03, 6.000e+00, 8.000e+00],\n",
       "       [2.021e+03, 6.000e+00, 9.000e+00],\n",
       "       [2.021e+03, 6.000e+00, 1.000e+01],\n",
       "       [2.021e+03, 6.000e+00, 1.100e+01],\n",
       "       [2.021e+03, 6.000e+00, 1.200e+01],\n",
       "       [2.021e+03, 6.000e+00, 1.300e+01],\n",
       "       [2.021e+03, 6.000e+00, 1.400e+01],\n",
       "       [2.021e+03, 6.000e+00, 1.500e+01],\n",
       "       [2.021e+03, 6.000e+00, 1.600e+01],\n",
       "       [2.021e+03, 6.000e+00, 1.700e+01],\n",
       "       [2.021e+03, 6.000e+00, 1.800e+01],\n",
       "       [2.021e+03, 6.000e+00, 1.900e+01],\n",
       "       [2.021e+03, 6.000e+00, 2.000e+01],\n",
       "       [2.021e+03, 6.000e+00, 2.100e+01],\n",
       "       [2.021e+03, 6.000e+00, 2.200e+01],\n",
       "       [2.021e+03, 6.000e+00, 2.300e+01],\n",
       "       [2.021e+03, 6.000e+00, 2.400e+01],\n",
       "       [2.021e+03, 6.000e+00, 2.500e+01],\n",
       "       [2.021e+03, 6.000e+00, 2.600e+01],\n",
       "       [2.021e+03, 6.000e+00, 2.700e+01],\n",
       "       [2.021e+03, 6.000e+00, 2.800e+01],\n",
       "       [2.021e+03, 6.000e+00, 2.900e+01],\n",
       "       [2.021e+03, 6.000e+00, 3.000e+01],\n",
       "       [2.021e+03, 7.000e+00, 1.000e+00],\n",
       "       [2.021e+03, 7.000e+00, 2.000e+00],\n",
       "       [2.021e+03, 7.000e+00, 3.000e+00],\n",
       "       [2.021e+03, 7.000e+00, 4.000e+00],\n",
       "       [2.021e+03, 7.000e+00, 5.000e+00],\n",
       "       [2.021e+03, 7.000e+00, 6.000e+00],\n",
       "       [2.021e+03, 7.000e+00, 7.000e+00],\n",
       "       [2.021e+03, 7.000e+00, 8.000e+00],\n",
       "       [2.021e+03, 7.000e+00, 9.000e+00],\n",
       "       [2.021e+03, 7.000e+00, 1.000e+01],\n",
       "       [2.021e+03, 7.000e+00, 1.100e+01],\n",
       "       [2.021e+03, 7.000e+00, 1.200e+01],\n",
       "       [2.021e+03, 7.000e+00, 1.300e+01],\n",
       "       [2.021e+03, 7.000e+00, 1.400e+01],\n",
       "       [2.021e+03, 7.000e+00, 1.500e+01]])"
      ]
     },
     "execution_count": 39,
     "metadata": {},
     "output_type": "execute_result"
    }
   ],
   "source": [
    "x"
   ]
  },
  {
   "cell_type": "code",
   "execution_count": 40,
   "metadata": {},
   "outputs": [
    {
     "data": {
      "text/plain": [
       "array([1.00000000e+00, 2.00000000e+00, 6.00000000e+00, 9.00000000e+00,\n",
       "       4.29000000e+02, 5.62600000e+03, 1.39660000e+04, 5.86310000e+04,\n",
       "       1.29449000e+05, 2.61890000e+05, 4.73722000e+05, 7.66770000e+05,\n",
       "       1.11516100e+06, 1.53576200e+06, 2.01541600e+06, 2.62786200e+06,\n",
       "       3.40085200e+06, 4.33977100e+06, 5.48425700e+06, 8.09942500e+06,\n",
       "       9.64000100e+06, 1.12898800e+07, 1.31579360e+07, 2.46046830e+07,\n",
       "       3.73087430e+07, 4.00412280e+07, 5.80159090e+07, 6.11996680e+07,\n",
       "       6.44903350e+07, 6.80535520e+07, 8.76785820e+07, 1.08489833e+08,\n",
       "       1.30683326e+08, 1.58871410e+08, 1.84561102e+08, 2.11682335e+08,\n",
       "       2.39888500e+08, 2.69243694e+08, 3.00065357e+08, 3.32810308e+08,\n",
       "       3.73549879e+08, 4.10290858e+08, 4.48721107e+08, 4.88575606e+08,\n",
       "       5.29375584e+08, 5.71859443e+08, 6.16268060e+08, 6.70867735e+08,\n",
       "       7.19949826e+08, 7.71337209e+08, 8.24487086e+08, 8.79084202e+08,\n",
       "       9.35965113e+08, 9.95196428e+08, 1.06724175e+09, 1.13167542e+09,\n",
       "       1.19903710e+09, 1.21426631e+09, 1.28526746e+09, 1.35800048e+09,\n",
       "       1.43286770e+09, 1.52291866e+09, 1.60223827e+09, 1.68353454e+09,\n",
       "       1.76651759e+09, 1.85093892e+09, 1.93742804e+09, 2.02641288e+09,\n",
       "       2.13416424e+09, 2.22866214e+09, 2.32579732e+09, 2.42532138e+09,\n",
       "       2.52742177e+09, 2.63250541e+09, 2.74082604e+09, 2.87230084e+09,\n",
       "       2.98777055e+09, 3.10605142e+09, 3.22731941e+09, 3.35143873e+09,\n",
       "       3.47894117e+09, 3.61034865e+09, 3.76937627e+09, 3.91032859e+09,\n",
       "       4.05299800e+09, 4.19919868e+09, 4.34819018e+09, 4.50063726e+09,\n",
       "       4.65693059e+09, 4.84350574e+09, 5.00684605e+09, 5.17362000e+09,\n",
       "       5.34418256e+09, 5.51774669e+09, 5.69492159e+09, 5.87636977e+09,\n",
       "       6.09389229e+09, 6.28374741e+09, 6.47735888e+09, 6.67549112e+09,\n",
       "       6.87692940e+09, 7.08258028e+09, 7.29317885e+09, 7.54507588e+09,\n",
       "       7.76448938e+09, 7.98768478e+09, 8.21509569e+09, 8.44542642e+09,\n",
       "       8.68056638e+09, 8.92119994e+09, 9.21095234e+09, 9.46180889e+09,\n",
       "       9.71688573e+09, 9.97780914e+09, 1.02432126e+10, 1.05132316e+10,\n",
       "       1.07888614e+10, 1.11210896e+10, 1.14075043e+10, 1.16981753e+10,\n",
       "       1.19926560e+10, 1.22909094e+10, 1.25939365e+10, 1.29021948e+10,\n",
       "       1.32738669e+10, 1.35922465e+10, 1.39144380e+10, 1.42406547e+10,\n",
       "       1.45708800e+10, 1.49061509e+10, 1.52466785e+10, 1.56590975e+10,\n",
       "       1.60095062e+10, 1.63629071e+10, 1.67192219e+10, 1.70788484e+10,\n",
       "       1.74429807e+10, 1.78125722e+10, 1.82640723e+10, 1.86433045e+10,\n",
       "       1.90259867e+10, 1.94129686e+10, 1.98045828e+10, 2.02012570e+10,\n",
       "       2.06021171e+10, 2.10941044e+10, 2.15038912e+10, 2.19170433e+10,\n",
       "       2.23343360e+10, 2.27558134e+10, 2.31824180e+10, 2.36144067e+10,\n",
       "       2.41482025e+10, 2.45897266e+10, 2.50343558e+10, 2.54825019e+10,\n",
       "       2.59344994e+10, 2.63915407e+10, 2.68536908e+10, 2.74270604e+10,\n",
       "       2.78978143e+10, 2.83712807e+10, 2.85530548e+10, 2.90346155e+10,\n",
       "       2.95205166e+10, 3.00106415e+10, 3.06233291e+10, 3.11221475e+10,\n",
       "       3.16241911e+10, 3.21308044e+10, 3.26424181e+10, 3.31592088e+10,\n",
       "       3.36810751e+10, 3.43378894e+10, 3.48687949e+10, 3.54028096e+10,\n",
       "       3.59416588e+10, 3.64857517e+10, 3.70352794e+10, 3.75910372e+10,\n",
       "       3.82939567e+10, 3.88585678e+10, 3.94260853e+10, 3.99975844e+10,\n",
       "       4.05739625e+10, 4.11554352e+10, 4.17415772e+10, 4.24865252e+10,\n",
       "       4.30813696e+10, 4.36796524e+10, 4.42824274e+10, 4.48900100e+10,\n",
       "       4.55030919e+10, 4.61215928e+10, 4.69099951e+10, 4.75367161e+10,\n",
       "       4.81662002e+10, 4.84686105e+10, 4.91055558e+10, 4.97468370e+10,\n",
       "       5.03925317e+10, 5.12191949e+10, 5.18725458e+10, 5.25284438e+10,\n",
       "       5.31797051e+10, 5.39705457e+10, 5.46047407e+10, 5.51697190e+10])"
      ]
     },
     "execution_count": 40,
     "metadata": {},
     "output_type": "execute_result"
    }
   ],
   "source": [
    "y"
   ]
  },
  {
   "cell_type": "code",
   "execution_count": 41,
   "metadata": {},
   "outputs": [
    {
     "name": "stdout",
     "output_type": "stream",
     "text": [
      "(208, 3)\n",
      "(208,)\n"
     ]
    }
   ],
   "source": [
    "print(x.shape)\n",
    "print(y.shape)"
   ]
  },
  {
   "cell_type": "code",
   "execution_count": 42,
   "metadata": {},
   "outputs": [],
   "source": [
    "data_dmatrix = xgb.DMatrix(x,label=y)"
   ]
  },
  {
   "cell_type": "code",
   "execution_count": 43,
   "metadata": {},
   "outputs": [],
   "source": [
    "x_train, x_test, y_train, y_test = train_test_split(x, y, test_size = 0.2, random_state = 9)"
   ]
  },
  {
   "cell_type": "code",
   "execution_count": 44,
   "metadata": {},
   "outputs": [
    {
     "name": "stdout",
     "output_type": "stream",
     "text": [
      "(166, 3)\n",
      "(166,)\n",
      "(42, 3)\n",
      "(42,)\n"
     ]
    }
   ],
   "source": [
    "print(x_train.shape)\n",
    "print(y_train.shape)\n",
    "print(x_test.shape)\n",
    "print(y_test.shape)"
   ]
  },
  {
   "cell_type": "markdown",
   "metadata": {},
   "source": [
    "## Train your model"
   ]
  },
  {
   "cell_type": "code",
   "execution_count": 45,
   "metadata": {},
   "outputs": [
    {
     "data": {
      "text/plain": [
       "XGBRegressor(base_score=0.5, booster='gbtree', colsample_bylevel=1,\n",
       "             colsample_bynode=1, colsample_bytree=1, enable_categorical=False,\n",
       "             gamma=0, gpu_id=-1, importance_type=None,\n",
       "             interaction_constraints='', learning_rate=0.08, max_delta_step=0,\n",
       "             max_depth=7, min_child_weight=1, missing=nan,\n",
       "             monotone_constraints='()', n_estimators=1000, n_jobs=4,\n",
       "             num_parallel_tree=1, predictor='auto', random_state=0, reg_alpha=0,\n",
       "             reg_lambda=1, scale_pos_weight=1, subsample=0.75,\n",
       "             tree_method='exact', validate_parameters=1, verbosity=None)"
      ]
     },
     "execution_count": 45,
     "metadata": {},
     "output_type": "execute_result"
    }
   ],
   "source": [
    "XGBR = xgb.XGBRegressor(n_estimators=1000,learning_rate=0.08,subsample=0.75,colsample_bytree=1,max_depth=7,gamma=0)\n",
    "XGBR.fit(x_train, y_train)"
   ]
  },
  {
   "cell_type": "markdown",
   "metadata": {},
   "source": [
    "## Test the model and show the metrics"
   ]
  },
  {
   "cell_type": "code",
   "execution_count": 46,
   "metadata": {},
   "outputs": [
    {
     "name": "stdout",
     "output_type": "stream",
     "text": [
      "Mean cross-validation score: 99.96\n"
     ]
    }
   ],
   "source": [
    "scores = cross_val_score(XGBR, x_train, y_train,cv=10)\n",
    "print(\"Mean cross-validation score: %.2f\" % (scores.mean()*100))"
   ]
  },
  {
   "cell_type": "code",
   "execution_count": 47,
   "metadata": {},
   "outputs": [
    {
     "data": {
      "text/plain": [
       "array([0.99991425, 0.99923643, 0.99935198, 0.99986987, 0.999217  ,\n",
       "       0.99959677, 0.99972575, 0.99960355, 0.99974709, 0.99929628])"
      ]
     },
     "execution_count": 47,
     "metadata": {},
     "output_type": "execute_result"
    }
   ],
   "source": [
    "scores"
   ]
  },
  {
   "cell_type": "code",
   "execution_count": 48,
   "metadata": {},
   "outputs": [
    {
     "name": "stdout",
     "output_type": "stream",
     "text": [
      "Mean cross-validation score: 99.96\n"
     ]
    }
   ],
   "source": [
    "test_scores = cross_val_score(XGBR, x_test, y_test,cv=10)\n",
    "print(\"Mean cross-validation score: %.2f\" % (scores.mean()*100))"
   ]
  },
  {
   "cell_type": "code",
   "execution_count": 49,
   "metadata": {},
   "outputs": [
    {
     "data": {
      "text/plain": [
       "array([0.99783488, 0.99227604, 0.97504368, 0.99328395, 0.97111867,\n",
       "       0.99831628, 0.95007923, 0.99359836, 0.94556893, 0.99422325])"
      ]
     },
     "execution_count": 49,
     "metadata": {},
     "output_type": "execute_result"
    }
   ],
   "source": [
    "test_scores"
   ]
  },
  {
   "cell_type": "code",
   "execution_count": 50,
   "metadata": {},
   "outputs": [],
   "source": [
    "pred = XGBR.predict(x_test)"
   ]
  },
  {
   "cell_type": "code",
   "execution_count": 51,
   "metadata": {},
   "outputs": [
    {
     "name": "stdout",
     "output_type": "stream",
     "text": [
      "R_Squared Score : 0.999843\n"
     ]
    }
   ],
   "source": [
    "r2 = r2_score(y_test, pred)\n",
    "print(\"R_Squared Score : %f\" % (r2))"
   ]
  },
  {
   "cell_type": "code",
   "execution_count": 52,
   "metadata": {},
   "outputs": [
    {
     "data": {
      "image/png": "[encoded data removed]",
      "text/plain": [
       "<Figure size 800x400 with 1 Axes>"
      ]
     },
     "metadata": {
      "needs_background": "light"
     },
     "output_type": "display_data"
    }
   ],
   "source": [
    "plt.figure(figsize=(10, 5), dpi=80)\n",
    "x_ax = range(len(y_test))\n",
    "plt.plot(x_ax, y_test, label=\"test\")\n",
    "plt.plot(x_ax, pred, label=\"predicted\")\n",
    "plt.title(\"Carbon Dioxide Emissions - Test and Predicted data\")\n",
    "plt.legend()\n",
    "plt.show()"
   ]
  },
  {
   "cell_type": "markdown",
   "metadata": {},
   "source": [
    "## Save your final model"
   ]
  },
  {
   "cell_type": "code",
   "execution_count": 53,
   "metadata": {},
   "outputs": [
    {
     "data": {
      "text/plain": [
       "['covid19_vaccinations.sav']"
      ]
     },
     "execution_count": 53,
     "metadata": {},
     "output_type": "execute_result"
    }
   ],
   "source": [
    "# import joblib\n",
    "filename = 'covid19_vaccinations.sav'\n",
    "joblib.dump(XGBR, filename)"
   ]
  },
  {
   "cell_type": "code",
   "execution_count": 54,
   "metadata": {},
   "outputs": [
    {
     "name": "stdout",
     "output_type": "stream",
     "text": [
      "0.9998425438582518\n"
     ]
    }
   ],
   "source": [
    "# for load data\n",
    "loaded_model = joblib.load(filename)\n",
    "# for use data\n",
    "result = loaded_model.score(x_test,y_test)\n",
    "print(result)"
   ]
  },
  {
   "cell_type": "markdown",
   "metadata": {},
   "source": [
    "## Send us the Result (Maktabkhoone)"
   ]
  }
 ],
 "metadata": {
  "kernelspec": {
   "display_name": "Python 3 (ipykernel)",
   "language": "python",
   "name": "python3"
  },
  "language_info": {
   "codemirror_mode": {
    "name": "ipython",
    "version": 3
   },
   "file_extension": ".py",
   "mimetype": "text/x-python",
   "name": "python",
   "nbconvert_exporter": "python",
   "pygments_lexer": "ipython3",
   "version": "3.9.7"
  }
 },
 "nbformat": 4,
 "nbformat_minor": 2
}
